{
 "cells": [
  {
   "cell_type": "markdown",
   "metadata": {
    "id": "veuqSnlxx8FF"
   },
   "source": [
    "# Pandas datetime object - Timeseries Data Analysis\n",
    "\n",
    "In Pandas, the term \"datetime object\" primarily refers to two related, yet distinct, entities:\n",
    "\n",
    "* pd.Timestamp: This is the scalar (single point in time) representation. It's Pandas' equivalent of Python's built-in datetime.datetime object, but it's optimized for efficiency and interoperability within Pandas' data structures. A Timestamp represents a specific moment in time with nanosecond precision.\n",
    "* pd.DatetimeIndex: This is the collection (sequence of times) representation. It's a specialized type of Pandas Index (like a list of labels for rows) where each label is a pd.Timestamp object. It's the cornerstone for time-series analysis in Pandas, allowing for powerful time-based operations on DataFrames and Series.\n",
    "\n"
   ]
  },
  {
   "cell_type": "markdown",
   "metadata": {
    "id": "iGzUIWySwwJz"
   },
   "source": [
    "# 1. Using pd.to_datetime() to convert existing data\n",
    "\n",
    "This is the most common way to create a DatetimeIndex when your date/time information is already present in a DataFrame column or a list of strings. Pandas is quite flexible in parsing various string formats."
   ]
  },
  {
   "cell_type": "markdown",
   "metadata": {
    "id": "BZWfgdxOLFpl"
   },
   "source": [
    "### A. Scenario 1: Converting a column of strings to datetime and setting as index"
   ]
  },
  {
   "cell_type": "code",
   "execution_count": 52,
   "metadata": {
    "colab": {
     "base_uri": "https://localhost:8080/"
    },
    "id": "IwBIshB-G297",
    "outputId": "7bfc463a-3f64-4563-cbac-948ff8b1d479"
   },
   "outputs": [
    {
     "name": "stdout",
     "output_type": "stream",
     "text": [
      "--- Scenario 1: Converting a string column to DatetimeIndex ---\n",
      "Original DataFrame (string dates):\n",
      "   Date_String  Sales\n",
      "0  2023-01-01    100\n",
      "1  2023-01-02    105\n",
      "2  2023-01-03     98\n",
      "3  2023-01-04    110\n",
      "\n",
      "DataFrame with DatetimeIndex (Scenario 1):\n",
      "              Sales\n",
      "Date_String       \n",
      "2023-01-01     100\n",
      "2023-01-02     105\n",
      "2023-01-03      98\n",
      "2023-01-04     110\n",
      "Index type: <class 'pandas.core.indexes.datetimes.DatetimeIndex'>\n",
      "Index dtype: datetime64[ns]\n"
     ]
    }
   ],
   "source": [
    "import pandas as pd\n",
    "\n",
    "# Scenario 1: Converting a column of strings to datetime and setting as index\n",
    "print(\"--- Scenario 1: Converting a string column to DatetimeIndex ---\")\n",
    "data = {\n",
    "    'Date_String': ['2023-01-01', '2023-01-02', '2023-01-03', '2023-01-04'],\n",
    "    'Sales': [100, 105, 98, 110]\n",
    "}\n",
    "df1 = pd.DataFrame(data)\n",
    "print(\"Original DataFrame (string dates):\\n\", df1)\n",
    "\n",
    "# Convert 'Date_String' column to datetime objects and set as index\n",
    "df1['Date_String'] = pd.to_datetime(df1['Date_String'])\n",
    "df1 = df1.set_index('Date_String')\n",
    "print(\"\\nDataFrame with DatetimeIndex (Scenario 1):\\n\", df1)\n",
    "print(\"Index type:\", type(df1.index))\n",
    "print(\"Index dtype:\", df1.index.dtype)"
   ]
  },
  {
   "cell_type": "markdown",
   "metadata": {
    "id": "F8OOScduLK5q"
   },
   "source": [
    "### B. Scenario 2: Converting a column of mixed date formats directly"
   ]
  },
  {
   "cell_type": "code",
   "execution_count": 53,
   "metadata": {
    "colab": {
     "base_uri": "https://localhost:8080/"
    },
    "id": "UQ-JPnLPKPao",
    "outputId": "ce3a8b54-59fc-4235-df83-83d8981d3f78"
   },
   "outputs": [
    {
     "name": "stdout",
     "output_type": "stream",
     "text": [
      "\n",
      "--- Scenario 2: Converting mixed date formats in a Series ---\n",
      "Original Series (mixed date strings):\n",
      " 0              2024-03-15\n",
      "1              16/03/2024\n",
      "2    March 17, 2024 10:30\n",
      "3                20240318\n",
      "dtype: object\n",
      "\n",
      "Converted Series (datetime objects):\n",
      " 0   2024-03-15 00:00:00\n",
      "1   2024-03-16 00:00:00\n",
      "2   2024-03-17 10:30:00\n",
      "3   2024-03-18 00:00:00\n",
      "dtype: datetime64[ns]\n",
      "Series dtype: datetime64[ns]\n"
     ]
    }
   ],
   "source": [
    "# Scenario 2: Converting a column of mixed date formats directly\n",
    "\n",
    "print(\"\\n--- Scenario 2: Converting mixed date formats in a Series ---\")\n",
    "mixed_dates = pd.Series(['2024-03-15', '16/03/2024', 'March 17, 2024 10:30', '20240318'])\n",
    "print(\"Original Series (mixed date strings):\\n\", mixed_dates)\n",
    "\n",
    "# Convert the Series to datetime objects, specifying mixed formats and dayfirst\n",
    "datetime_series = pd.to_datetime(mixed_dates, format='mixed', dayfirst=True)\n",
    "print(\"\\nConverted Series (datetime objects):\\n\", datetime_series)\n",
    "print(\"Series dtype:\", datetime_series.dtype)"
   ]
  },
  {
   "cell_type": "markdown",
   "metadata": {
    "id": "22fKuP8xLPpp"
   },
   "source": [
    "### C. Scenario 3: Converting a column that also contains time information"
   ]
  },
  {
   "cell_type": "code",
   "execution_count": 54,
   "metadata": {
    "colab": {
     "base_uri": "https://localhost:8080/"
    },
    "id": "YW1anc4bKWCT",
    "outputId": "dc7f5496-377f-4946-aed3-c5c70e93c265"
   },
   "outputs": [
    {
     "name": "stdout",
     "output_type": "stream",
     "text": [
      "\n",
      "--- Scenario 3: Converting strings with time information ---\n",
      "\n",
      "DataFrame with DatetimeIndex (including time):\n",
      "                         Timestamp_String  Sensor_Reading\n",
      "Timestamp                                               \n",
      "2023-05-10 10:00:00  2023-05-10 10:00:00            25.5\n",
      "2023-05-10 11:30:00  2023-05-10 11:30:00            26.1\n",
      "2023-05-11 09:15:00  2023-05-11 09:15:00            24.9\n",
      "Index type: <class 'pandas.core.indexes.datetimes.DatetimeIndex'>\n",
      "Index dtype: datetime64[ns]\n"
     ]
    }
   ],
   "source": [
    "# Scenario 3: Converting a column that also contains time information\n",
    "\n",
    "print(\"\\n--- Scenario 3: Converting strings with time information ---\")\n",
    "data_time = {\n",
    "    'Timestamp_String': ['2023-05-10 10:00:00', '2023-05-10 11:30:00', '2023-05-11 09:15:00'],\n",
    "    'Sensor_Reading': [25.5, 26.1, 24.9]\n",
    "}\n",
    "df_time = pd.DataFrame(data_time)\n",
    "df_time['Timestamp'] = pd.to_datetime(df_time['Timestamp_String'])\n",
    "df_time = df_time.set_index('Timestamp')\n",
    "print(\"\\nDataFrame with DatetimeIndex (including time):\\n\", df_time)\n",
    "print(\"Index type:\", type(df_time.index))\n",
    "print(\"Index dtype:\", df_time.index.dtype)"
   ]
  },
  {
   "cell_type": "markdown",
   "metadata": {
    "id": "K8Ww-v78OO74"
   },
   "source": [
    "# 2. Using pd.date_range() to generate a DatetimeIndex\n",
    "\n",
    "This is ideal when you need to create a new time series from scratch with a defined start, end, and frequency, or a specific number of periods."
   ]
  },
  {
   "cell_type": "markdown",
   "metadata": {
    "id": "hoz4dFc1OaY-"
   },
   "source": [
    "### A. Scenario 4: Generating a daily DatetimeIndex"
   ]
  },
  {
   "cell_type": "code",
   "execution_count": 55,
   "metadata": {
    "colab": {
     "base_uri": "https://localhost:8080/"
    },
    "id": "00BMulBxNllz",
    "outputId": "5f450b03-338b-40ac-b019-b37845fec050"
   },
   "outputs": [
    {
     "name": "stdout",
     "output_type": "stream",
     "text": [
      "Series with daily DatetimeIndex:\n",
      " 2023-06-01    0\n",
      "2023-06-02    1\n",
      "2023-06-03    2\n",
      "2023-06-04    3\n",
      "2023-06-05    4\n",
      "2023-06-06    5\n",
      "2023-06-07    6\n",
      "Freq: D, dtype: int64\n",
      "Index type: <class 'pandas.core.indexes.datetimes.DatetimeIndex'>\n",
      "Index dtype: datetime64[ns]\n"
     ]
    }
   ],
   "source": [
    "# Create a daily date range for 7 days starting from a specific date\n",
    "\n",
    "daily_dates = pd.date_range(start='2023-06-01', periods=7, freq='D')\n",
    "s1 = pd.Series(range(7), index=daily_dates)\n",
    "print(\"Series with daily DatetimeIndex:\\n\", s1)\n",
    "print(\"Index type:\", type(s1.index))\n",
    "print(\"Index dtype:\", s1.index.dtype)"
   ]
  },
  {
   "cell_type": "markdown",
   "metadata": {
    "id": "9I7g7320OoQp"
   },
   "source": [
    "### B. Scenario 5: Generating a monthly-end DatetimeIndex"
   ]
  },
  {
   "cell_type": "code",
   "execution_count": 56,
   "metadata": {
    "colab": {
     "base_uri": "https://localhost:8080/"
    },
    "id": "Yy9TLGRjOfgq",
    "outputId": "51bead6e-690b-45e4-f6d0-bd2a99436b7f"
   },
   "outputs": [
    {
     "name": "stdout",
     "output_type": "stream",
     "text": [
      "DataFrame with monthly-end DatetimeIndex:\n",
      "             Revenue\n",
      "2024-01-31      500\n",
      "2024-02-29     1500\n",
      "2024-03-31     2500\n",
      "2024-04-30     3500\n",
      "2024-05-31     4500\n",
      "2024-06-30     5500\n",
      "2024-07-31     6500\n",
      "2024-08-31     7500\n",
      "2024-09-30     8500\n",
      "2024-10-31     9500\n",
      "2024-11-30    10500\n",
      "2024-12-31    11500\n",
      "Index type: <class 'pandas.core.indexes.datetimes.DatetimeIndex'>\n",
      "Index dtype: datetime64[ns]\n"
     ]
    },
    {
     "name": "stderr",
     "output_type": "stream",
     "text": [
      "<ipython-input-56-116ec0a3acb1>:3: FutureWarning: 'M' is deprecated and will be removed in a future version, please use 'ME' instead.\n",
      "  monthly_dates = pd.date_range(start='2024-01-01', end='2024-12-31', freq='M')\n"
     ]
    }
   ],
   "source": [
    "# Create a monthly-end date range for a full year\n",
    "\n",
    "monthly_dates = pd.date_range(start='2024-01-01', end='2024-12-31', freq='M')\n",
    "df_monthly = pd.DataFrame({'Revenue': [i * 1000 + 500 for i in range(12)]}, index=monthly_dates)\n",
    "print(\"DataFrame with monthly-end DatetimeIndex:\\n\", df_monthly)\n",
    "print(\"Index type:\", type(df_monthly.index))\n",
    "print(\"Index dtype:\", df_monthly.index.dtype)"
   ]
  },
  {
   "cell_type": "markdown",
   "metadata": {
    "id": "gTwPzhIxO5PX"
   },
   "source": [
    "### C. Scenario 6: Generating an hourly DatetimeIndex"
   ]
  },
  {
   "cell_type": "code",
   "execution_count": 57,
   "metadata": {
    "colab": {
     "base_uri": "https://localhost:8080/"
    },
    "id": "UJuC1_PyOt2w",
    "outputId": "70f0c0e5-b9dc-4962-b6af-96afe9c3600b"
   },
   "outputs": [
    {
     "name": "stdout",
     "output_type": "stream",
     "text": [
      "Series with hourly DatetimeIndex:\n",
      " 2023-11-15 09:00:00    10\n",
      "2023-11-15 10:00:00    12\n",
      "2023-11-15 11:00:00    11\n",
      "2023-11-15 12:00:00    13\n",
      "Freq: h, dtype: int64\n",
      "Index type: <class 'pandas.core.indexes.datetimes.DatetimeIndex'>\n",
      "Index dtype: datetime64[ns]\n"
     ]
    },
    {
     "name": "stderr",
     "output_type": "stream",
     "text": [
      "<ipython-input-57-c09f7737e2b6>:3: FutureWarning: 'H' is deprecated and will be removed in a future version, please use 'h' instead.\n",
      "  hourly_dates = pd.date_range(start='2023-11-15 09:00', end='2023-11-15 12:00', freq='H')\n"
     ]
    }
   ],
   "source": [
    "# Create an hourly date range for a specific day\n",
    "\n",
    "hourly_dates = pd.date_range(start='2023-11-15 09:00', end='2023-11-15 12:00', freq='H')\n",
    "s_hourly = pd.Series([10, 12, 11, 13], index=hourly_dates)\n",
    "print(\"Series with hourly DatetimeIndex:\\n\", s_hourly)\n",
    "print(\"Index type:\", type(s_hourly.index))\n",
    "print(\"Index dtype:\", s_hourly.index.dtype)"
   ]
  },
  {
   "cell_type": "markdown",
   "metadata": {
    "id": "20QYFWenbJ8s"
   },
   "source": [
    "### 3. Creating Individual Timestamp Objects with pd.Timestamp()\n",
    "\n",
    "While pd.to_datetime() is great for Series or DataFrames, pd.Timestamp() is perfect for creating a single, precise datetime object from a string or other time components. You can then easily access its various attributes.me."
   ]
  },
  {
   "cell_type": "markdown",
   "metadata": {
    "id": "kgJH_h3lbU0E"
   },
   "source": [
    "### A. Creating a single Timestamp object and accessing attributes"
   ]
  },
  {
   "cell_type": "code",
   "execution_count": 63,
   "metadata": {
    "colab": {
     "base_uri": "https://localhost:8080/"
    },
    "id": "f_HcgnWObcpv",
    "outputId": "1b2a4e00-4502-4e79-accd-a015180f35ad"
   },
   "outputs": [
    {
     "name": "stdout",
     "output_type": "stream",
     "text": [
      "Created Timestamp: 1988-09-24 11:30:45.001452\n",
      "Timestamp type: <class 'pandas._libs.tslibs.timestamps.Timestamp'>\n",
      "\n",
      "Extracted Attributes:\n",
      "Year: 1988\n",
      "Month: 9\n",
      "Day: 24\n",
      "Hour: 11\n",
      "Minute: 30\n",
      "Second: 45\n",
      "Microsecond: 1452\n",
      "Nanosecond: 0\n",
      "Day of Week (Monday=0, Sunday=6): 5\n",
      "Day Name: Saturday\n",
      "Quarter: 3\n",
      "Is Leap Year: True\n",
      "Date Component: 1988-09-24\n",
      "Time Component: 11:30:45.001452\n"
     ]
    }
   ],
   "source": [
    "import pandas as pd\n",
    "\n",
    "# Convert a string to a Timestamp object\n",
    "# Pandas is smart enough to parse various common date/time formats\n",
    "\n",
    "timestamp_var = pd.Timestamp('24-09-1988 11:30:45.001452')\n",
    "print(\"Created Timestamp:\", timestamp_var)\n",
    "print(\"Timestamp type:\", type(timestamp_var))\n",
    "\n",
    "\n",
    "\n",
    "# Get and print various date and time attributes from the Timestamp object\n",
    "\n",
    "print('\\nExtracted Attributes:')\n",
    "print('Year:', timestamp_var.year)\n",
    "print('Month:', timestamp_var.month)\n",
    "print('Day:', timestamp_var.day)\n",
    "print('Hour:', timestamp_var.hour)\n",
    "print('Minute:', timestamp_var.minute)\n",
    "print('Second:', timestamp_var.second)\n",
    "print('Microsecond:', timestamp_var.microsecond)\n",
    "print('Nanosecond:', timestamp_var.nanosecond) # Nanoseconds are typically 0 unless specified\n",
    "\n",
    "# You can also get other useful attributes\n",
    "\n",
    "print('Day of Week (Monday=0, Sunday=6):', timestamp_var.dayofweek)\n",
    "print('Day Name:', timestamp_var.day_name())\n",
    "print('Quarter:', timestamp_var.quarter)\n",
    "print('Is Leap Year:', timestamp_var.is_leap_year)\n",
    "print('Date Component:', timestamp_var.date())\n",
    "print('Time Component:', timestamp_var.time())"
   ]
  },
  {
   "cell_type": "markdown",
   "metadata": {
    "id": "otUdLTYqeuNZ"
   },
   "source": [
    "# COMPLETED"
   ]
  },
  {
   "cell_type": "code",
   "execution_count": null,
   "metadata": {
    "id": "cTyTNDthblpJ"
   },
   "outputs": [],
   "source": []
  }
 ],
 "metadata": {
  "colab": {
   "provenance": []
  },
  "kernelspec": {
   "display_name": "Python 3 (ipykernel)",
   "language": "python",
   "name": "python3"
  },
  "language_info": {
   "name": "python"
  }
 },
 "nbformat": 4,
 "nbformat_minor": 4
}
